{
 "cells": [
  {
   "cell_type": "code",
   "execution_count": 1,
   "id": "658923ad",
   "metadata": {},
   "outputs": [],
   "source": [
    "import os\n",
    "import json\n",
    "import pandas as pd"
   ]
  },
  {
   "cell_type": "code",
   "execution_count": 2,
   "id": "000d9732",
   "metadata": {},
   "outputs": [],
   "source": [
    "## add your raw folder path here\n",
    "\n",
    "RAW_FOLDER = \"YOUR_RAW_FOLDER_PATH/raw\"\n",
    "\n",
    "## add your processed folder path here\n",
    "\n",
    "PROCESSED_FOLDER = \"YOUR_PROCESSED_FOLDER_PATH/processed\""
   ]
  },
  {
   "cell_type": "code",
   "execution_count": 3,
   "id": "b759f330",
   "metadata": {},
   "outputs": [],
   "source": [
    "json_files = os.listdir(RAW_FOLDER)"
   ]
  },
  {
   "cell_type": "code",
   "execution_count": 4,
   "id": "a9471902",
   "metadata": {},
   "outputs": [],
   "source": [
    "records = []\n",
    "\n",
    "for file in json_files:\n",
    "    with open(os.path.join(RAW_FOLDER, file), \"r\") as f:\n",
    "        data = json.load(f)\n",
    "        flights = data.get(\"data\", [])\n",
    "        \n",
    "        for flight in flights:\n",
    "            record = {\n",
    "                \"airline\": flight.get(\"airline\", {}).get(\"name\"),\n",
    "                \"flight_number\": flight.get(\"flight\", {}).get(\"iata\"),\n",
    "                \"departure_airport\": flight.get(\"departure\", {}).get(\"airport\"),\n",
    "                \"arrival_airport\": flight.get(\"arrival\", {}).get(\"airport\"),\n",
    "                \"scheduled_departure\": flight.get(\"departure\", {}).get(\"scheduled\"),\n",
    "                \"status\": flight.get(\"flight_status\")\n",
    "            }\n",
    "            records.append(record)"
   ]
  },
  {
   "cell_type": "code",
   "execution_count": 5,
   "id": "71e927f4",
   "metadata": {},
   "outputs": [],
   "source": [
    "df = pd.DataFrame(records)\n",
    "df.drop_duplicates(subset=[\"flight_number\", \"scheduled_departure\"], inplace=True)"
   ]
  },
  {
   "cell_type": "code",
   "execution_count": 6,
   "id": "42435506",
   "metadata": {},
   "outputs": [],
   "source": [
    "df.to_csv(os.path.join(PROCESSED_FOLDER, \"processed_flights.csv\"), index=False)"
   ]
  },
  {
   "cell_type": "code",
   "execution_count": null,
   "id": "6527adf5",
   "metadata": {},
   "outputs": [],
   "source": []
  }
 ],
 "metadata": {
  "kernelspec": {
   "display_name": "Python 3 (ipykernel)",
   "language": "python",
   "name": "python3"
  },
  "language_info": {
   "codemirror_mode": {
    "name": "ipython",
    "version": 3
   },
   "file_extension": ".py",
   "mimetype": "text/x-python",
   "name": "python",
   "nbconvert_exporter": "python",
   "pygments_lexer": "ipython3",
   "version": "3.9.12"
  }
 },
 "nbformat": 4,
 "nbformat_minor": 5
}
