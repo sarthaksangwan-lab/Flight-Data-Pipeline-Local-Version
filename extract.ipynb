{
 "cells": [
  {
   "cell_type": "code",
   "execution_count": 4,
   "id": "eb9d81f1",
   "metadata": {},
   "outputs": [],
   "source": [
    "import requests\n",
    "import json\n",
    "from datetime import datetime\n",
    "import os"
   ]
  },
  {
   "cell_type": "code",
   "execution_count": 1,
   "id": "fe7e22ce",
   "metadata": {},
   "outputs": [],
   "source": [
    "## Make sure you paste your aviationstack API key here\n",
    "\n",
    "API_KEY = \"your_actual_api_key\" \n",
    "URL = f\"http://api.aviationstack.com/v1/flights?access_key={API_KEY}\""
   ]
  },
  {
   "cell_type": "code",
   "execution_count": 8,
   "id": "fc07417f",
   "metadata": {},
   "outputs": [
    {
     "name": "stdout",
     "output_type": "stream",
     "text": [
      "Raw data saved: /Users/sarthaksangwan/Desktop/Data Engineering/Flight Data Pipeline/raw/flights_2025-04-09_19-01-41.json\n"
     ]
    }
   ],
   "source": [
    "def fetch_flight_data():\n",
    "    response = requests.get(URL)\n",
    "    data = response.json()\n",
    "\n",
    "    timestamp = datetime.utcnow().strftime(\"%Y-%m-%d_%H-%M-%S\")\n",
    "    ## add your raw folder path here\n",
    "    \n",
    "    filename = \"YOUR_RAW_FOLDER_PATH/raw/flights_{timestamp}.json\"\n",
    "\n",
    "    with open(filename, \"w\") as f:\n",
    "        json.dump(data, f, indent=2)\n",
    "\n",
    "    print(f\"Raw data saved: {filename}\")\n",
    "\n",
    "if __name__ == \"__main__\":\n",
    "    fetch_flight_data()"
   ]
  },
  {
   "cell_type": "code",
   "execution_count": null,
   "id": "f1584a0b",
   "metadata": {},
   "outputs": [],
   "source": []
  }
 ],
 "metadata": {
  "kernelspec": {
   "display_name": "Python 3 (ipykernel)",
   "language": "python",
   "name": "python3"
  },
  "language_info": {
   "codemirror_mode": {
    "name": "ipython",
    "version": 3
   },
   "file_extension": ".py",
   "mimetype": "text/x-python",
   "name": "python",
   "nbconvert_exporter": "python",
   "pygments_lexer": "ipython3",
   "version": "3.9.12"
  }
 },
 "nbformat": 4,
 "nbformat_minor": 5
}
